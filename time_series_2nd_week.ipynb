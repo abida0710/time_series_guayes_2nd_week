{
 "cells": [
  {
   "cell_type": "markdown",
   "id": "e4fd6373",
   "metadata": {},
   "source": [
    "# Data Preparation & Filtering"
   ]
  },
  {
   "cell_type": "code",
   "execution_count": 54,
   "id": "6cf87590",
   "metadata": {},
   "outputs": [],
   "source": [
    "# import necessary libraries\n",
    "import pandas as pd\n",
    "import numpy as np\n",
    "import matplotlib.pyplot as plt\n",
    "import seaborn as sns\n",
    "from statsmodels.graphics.tsaplots import plot_acf, plot_pacf\n",
    "from statsmodels.tsa.arima.model import ARIMA\n",
    "from statsmodels.tsa.statespace.sarimax import SARIMAX\n",
    "from sklearn.metrics import mean_squared_error, mean_absolute_error\n",
    "from math import sqrt\n",
    "from xgboost import XGBRegressor\n",
    "import warnings\n",
    "warnings.filterwarnings(\"ignore\")"
   ]
  },
  {
   "cell_type": "code",
   "execution_count": 55,
   "id": "d8021205",
   "metadata": {},
   "outputs": [],
   "source": [
    "# Load main dataset\n",
    "train_df = pd.read_csv('data/train_processed.csv')\n",
    "train_df['date'] = pd.to_datetime(train_df['date'])"
   ]
  },
  {
   "cell_type": "code",
   "execution_count": 56,
   "id": "5edaa46c",
   "metadata": {},
   "outputs": [
    {
     "data": {
      "text/html": [
       "<div>\n",
       "<style scoped>\n",
       "    .dataframe tbody tr th:only-of-type {\n",
       "        vertical-align: middle;\n",
       "    }\n",
       "\n",
       "    .dataframe tbody tr th {\n",
       "        vertical-align: top;\n",
       "    }\n",
       "\n",
       "    .dataframe thead th {\n",
       "        text-align: right;\n",
       "    }\n",
       "</style>\n",
       "<table border=\"1\" class=\"dataframe\">\n",
       "  <thead>\n",
       "    <tr style=\"text-align: right;\">\n",
       "      <th></th>\n",
       "      <th>Unnamed: 0</th>\n",
       "      <th>store_nbr</th>\n",
       "      <th>item_nbr</th>\n",
       "      <th>date</th>\n",
       "      <th>id</th>\n",
       "      <th>unit_sales</th>\n",
       "      <th>onpromotion</th>\n",
       "      <th>year</th>\n",
       "      <th>month</th>\n",
       "      <th>day</th>\n",
       "      <th>day_of_week</th>\n",
       "      <th>unit_sales_7d_avg</th>\n",
       "    </tr>\n",
       "  </thead>\n",
       "  <tbody>\n",
       "    <tr>\n",
       "      <th>0</th>\n",
       "      <td>0</td>\n",
       "      <td>24</td>\n",
       "      <td>105574</td>\n",
       "      <td>2013-01-02</td>\n",
       "      <td>18790.0</td>\n",
       "      <td>12.0</td>\n",
       "      <td>False</td>\n",
       "      <td>2013</td>\n",
       "      <td>1</td>\n",
       "      <td>2</td>\n",
       "      <td>2</td>\n",
       "      <td>NaN</td>\n",
       "    </tr>\n",
       "    <tr>\n",
       "      <th>1</th>\n",
       "      <td>1</td>\n",
       "      <td>24</td>\n",
       "      <td>105574</td>\n",
       "      <td>2013-01-03</td>\n",
       "      <td>59692.0</td>\n",
       "      <td>1.0</td>\n",
       "      <td>False</td>\n",
       "      <td>2013</td>\n",
       "      <td>1</td>\n",
       "      <td>3</td>\n",
       "      <td>3</td>\n",
       "      <td>NaN</td>\n",
       "    </tr>\n",
       "    <tr>\n",
       "      <th>2</th>\n",
       "      <td>2</td>\n",
       "      <td>24</td>\n",
       "      <td>105574</td>\n",
       "      <td>2013-01-04</td>\n",
       "      <td>99664.0</td>\n",
       "      <td>3.0</td>\n",
       "      <td>False</td>\n",
       "      <td>2013</td>\n",
       "      <td>1</td>\n",
       "      <td>4</td>\n",
       "      <td>4</td>\n",
       "      <td>NaN</td>\n",
       "    </tr>\n",
       "    <tr>\n",
       "      <th>3</th>\n",
       "      <td>3</td>\n",
       "      <td>24</td>\n",
       "      <td>105574</td>\n",
       "      <td>2013-01-05</td>\n",
       "      <td>140805.0</td>\n",
       "      <td>4.0</td>\n",
       "      <td>False</td>\n",
       "      <td>2013</td>\n",
       "      <td>1</td>\n",
       "      <td>5</td>\n",
       "      <td>5</td>\n",
       "      <td>NaN</td>\n",
       "    </tr>\n",
       "    <tr>\n",
       "      <th>4</th>\n",
       "      <td>4</td>\n",
       "      <td>24</td>\n",
       "      <td>105574</td>\n",
       "      <td>2013-01-06</td>\n",
       "      <td>182800.0</td>\n",
       "      <td>7.0</td>\n",
       "      <td>False</td>\n",
       "      <td>2013</td>\n",
       "      <td>1</td>\n",
       "      <td>6</td>\n",
       "      <td>6</td>\n",
       "      <td>NaN</td>\n",
       "    </tr>\n",
       "  </tbody>\n",
       "</table>\n",
       "</div>"
      ],
      "text/plain": [
       "   Unnamed: 0  store_nbr  item_nbr       date        id  unit_sales  \\\n",
       "0           0         24    105574 2013-01-02   18790.0        12.0   \n",
       "1           1         24    105574 2013-01-03   59692.0         1.0   \n",
       "2           2         24    105574 2013-01-04   99664.0         3.0   \n",
       "3           3         24    105574 2013-01-05  140805.0         4.0   \n",
       "4           4         24    105574 2013-01-06  182800.0         7.0   \n",
       "\n",
       "  onpromotion  year  month  day  day_of_week  unit_sales_7d_avg  \n",
       "0       False  2013      1    2            2                NaN  \n",
       "1       False  2013      1    3            3                NaN  \n",
       "2       False  2013      1    4            4                NaN  \n",
       "3       False  2013      1    5            5                NaN  \n",
       "4       False  2013      1    6            6                NaN  "
      ]
     },
     "execution_count": 56,
     "metadata": {},
     "output_type": "execute_result"
    }
   ],
   "source": [
    "train_df.head()"
   ]
  },
  {
   "cell_type": "code",
   "execution_count": 57,
   "id": "f185773a",
   "metadata": {},
   "outputs": [
    {
     "name": "stdout",
     "output_type": "stream",
     "text": [
      "<class 'pandas.core.frame.DataFrame'>\n",
      "RangeIndex: 35069356 entries, 0 to 35069355\n",
      "Data columns (total 12 columns):\n",
      " #   Column             Dtype         \n",
      "---  ------             -----         \n",
      " 0   Unnamed: 0         int64         \n",
      " 1   store_nbr          int64         \n",
      " 2   item_nbr           int64         \n",
      " 3   date               datetime64[ns]\n",
      " 4   id                 float64       \n",
      " 5   unit_sales         float64       \n",
      " 6   onpromotion        object        \n",
      " 7   year               int64         \n",
      " 8   month              int64         \n",
      " 9   day                int64         \n",
      " 10  day_of_week        int64         \n",
      " 11  unit_sales_7d_avg  float64       \n",
      "dtypes: datetime64[ns](1), float64(3), int64(7), object(1)\n",
      "memory usage: 3.1+ GB\n"
     ]
    }
   ],
   "source": [
    "train_df.info()"
   ]
  },
  {
   "cell_type": "code",
   "execution_count": 58,
   "id": "b3550462",
   "metadata": {},
   "outputs": [],
   "source": [
    "train_df['onpromotion'] = train_df['onpromotion'].fillna(False).astype(bool)\n",
    "train_df['onpromotion'] = train_df['onpromotion'].astype('int64')\n"
   ]
  },
  {
   "cell_type": "code",
   "execution_count": 59,
   "id": "72182a93",
   "metadata": {},
   "outputs": [],
   "source": [
    "# drop column Unnamed \n",
    "train_df = train_df.drop(columns=['Unnamed: 0'])"
   ]
  },
  {
   "cell_type": "code",
   "execution_count": 60,
   "id": "53adb451",
   "metadata": {},
   "outputs": [],
   "source": [
    "# Filter to Jan-Mar 2014 only\n",
    "train_df = train_df[(train_df['date'] >= '2014-01-01') & (train_df['date'] < '2014-04-01')]\n"
   ]
  },
  {
   "cell_type": "code",
   "execution_count": 61,
   "id": "2ff208e8",
   "metadata": {},
   "outputs": [
    {
     "data": {
      "text/plain": [
       "(1870920, 11)"
      ]
     },
     "execution_count": 61,
     "metadata": {},
     "output_type": "execute_result"
    }
   ],
   "source": [
    "train_df.shape"
   ]
  },
  {
   "cell_type": "code",
   "execution_count": 62,
   "id": "ca6c691a",
   "metadata": {},
   "outputs": [
    {
     "data": {
      "text/plain": [
       "store_nbr                  0\n",
       "item_nbr                   0\n",
       "date                       0\n",
       "id                   1241775\n",
       "unit_sales                 0\n",
       "onpromotion                0\n",
       "year                       0\n",
       "month                      0\n",
       "day                        0\n",
       "day_of_week                0\n",
       "unit_sales_7d_avg          0\n",
       "dtype: int64"
      ]
     },
     "execution_count": 62,
     "metadata": {},
     "output_type": "execute_result"
    }
   ],
   "source": [
    "train_df.isnull().sum()"
   ]
  },
  {
   "cell_type": "code",
   "execution_count": 63,
   "id": "1d21a7a2",
   "metadata": {},
   "outputs": [],
   "source": [
    "# Drop 'id' column\n",
    "# 'id' column is not needed for the analysis\n",
    "train_df.drop(columns=['id'], inplace=True)"
   ]
  },
  {
   "cell_type": "code",
   "execution_count": 64,
   "id": "9640262d",
   "metadata": {},
   "outputs": [
    {
     "data": {
      "text/plain": [
       "store_nbr            0\n",
       "item_nbr             0\n",
       "date                 0\n",
       "unit_sales           0\n",
       "onpromotion          0\n",
       "year                 0\n",
       "month                0\n",
       "day                  0\n",
       "day_of_week          0\n",
       "unit_sales_7d_avg    0\n",
       "dtype: int64"
      ]
     },
     "execution_count": 64,
     "metadata": {},
     "output_type": "execute_result"
    }
   ],
   "source": [
    "train_df.isnull().sum()"
   ]
  },
  {
   "cell_type": "markdown",
   "id": "dc99378b",
   "metadata": {},
   "source": [
    "# Merging External Datasets"
   ]
  },
  {
   "cell_type": "code",
   "execution_count": 65,
   "id": "d502cd4e",
   "metadata": {},
   "outputs": [],
   "source": [
    "# Load and merge store info\n",
    "stores = pd.read_csv(\"data/stores.csv\")\n",
    "train_df = train_df.merge(stores, on=\"store_nbr\", how=\"left\")\n"
   ]
  },
  {
   "cell_type": "code",
   "execution_count": 66,
   "id": "16bcae8b",
   "metadata": {},
   "outputs": [],
   "source": [
    "# Load and merge item info\n",
    "items = pd.read_csv(\"data/items.csv\")\n",
    "train_df = train_df.merge(items, on=\"item_nbr\", how=\"left\")"
   ]
  },
  {
   "cell_type": "code",
   "execution_count": 67,
   "id": "8e4b25c3",
   "metadata": {},
   "outputs": [],
   "source": [
    "# Merge oil prices\n",
    "oil = pd.read_csv(\"data/oil.csv\")\n",
    "oil['date'] = pd.to_datetime(oil['date'])\n",
    "oil.rename(columns={'dcoilwtico': 'oil_price'}, inplace=True)\n",
    "oil['oil_price'].fillna(method='ffill', inplace=True)\n",
    "train_df = train_df.merge(oil, on='date', how='left')"
   ]
  },
  {
   "cell_type": "code",
   "execution_count": 68,
   "id": "65a4895f",
   "metadata": {},
   "outputs": [],
   "source": [
    "# Merge transactions\n",
    "trans = pd.read_csv(\"data/transactions.csv\")\n",
    "trans['date'] = pd.to_datetime(trans['date'])\n",
    "train_df = train_df.merge(trans, on=['date', 'store_nbr'], how='left')\n",
    "train_df['transactions'].fillna(0, inplace=True)\n"
   ]
  },
  {
   "cell_type": "code",
   "execution_count": 69,
   "id": "be18e8a8",
   "metadata": {},
   "outputs": [],
   "source": [
    "# Merge holidays\n",
    "holidays = pd.read_csv(\"data/holidays_events.csv\")\n",
    "holidays['date'] = pd.to_datetime(holidays['date'])\n",
    "holidays = holidays[['date', 'type']]\n",
    "holidays['is_holiday'] = 1\n",
    "train_df = train_df.merge(holidays, on='date', how='left')\n",
    "train_df['is_holiday'] = train_df['is_holiday'].fillna(0)\n"
   ]
  },
  {
   "cell_type": "code",
   "execution_count": 70,
   "id": "6a886882",
   "metadata": {},
   "outputs": [],
   "source": [
    "# 🎉 One-Hot Encode Holiday Type ('type_y')\n",
    "#holiday_dummies = pd.get_dummies(train_df['type_y'], prefix='holiday_type')\n",
    "#train_df = pd.concat([train_df, holiday_dummies], axis=1)\n",
    "#train_df.drop(columns=['type_y'], inplace=True)"
   ]
  },
  {
   "cell_type": "markdown",
   "id": "5b49861d",
   "metadata": {},
   "source": [
    "# Feature Engineering"
   ]
  },
  {
   "cell_type": "code",
   "execution_count": 71,
   "id": "d613e68d",
   "metadata": {},
   "outputs": [],
   "source": [
    "train_df['day_of_week'] = train_df['date'].dt.dayofweek\n",
    "train_df['dow_sin'] = np.sin(2 * np.pi * train_df['day_of_week'] / 7)\n",
    "train_df['dow_cos'] = np.cos(2 * np.pi * train_df['day_of_week'] / 7)\n",
    "train_df.sort_values(by=['store_nbr', 'item_nbr', 'date'], inplace=True)\n",
    "group = train_df.groupby(['store_nbr', 'item_nbr'])\n",
    "train_df['lag_1'] = group['unit_sales'].shift(1)\n",
    "train_df['lag_7'] = group['unit_sales'].shift(7)\n",
    "train_df['rolling_mean_7'] = group['unit_sales'].shift(1).rolling(7).mean()\n",
    "train_df['rolling_std_7'] = group['unit_sales'].shift(1).rolling(7).std()\n",
    "train_df = train_df.dropna(subset=['lag_1', 'lag_7', 'rolling_mean_7', 'rolling_std_7'])"
   ]
  },
  {
   "cell_type": "code",
   "execution_count": 72,
   "id": "fd1703d5",
   "metadata": {},
   "outputs": [
    {
     "data": {
      "text/html": [
       "<div>\n",
       "<style scoped>\n",
       "    .dataframe tbody tr th:only-of-type {\n",
       "        vertical-align: middle;\n",
       "    }\n",
       "\n",
       "    .dataframe tbody tr th {\n",
       "        vertical-align: top;\n",
       "    }\n",
       "\n",
       "    .dataframe thead th {\n",
       "        text-align: right;\n",
       "    }\n",
       "</style>\n",
       "<table border=\"1\" class=\"dataframe\">\n",
       "  <thead>\n",
       "    <tr style=\"text-align: right;\">\n",
       "      <th></th>\n",
       "      <th>store_nbr</th>\n",
       "      <th>item_nbr</th>\n",
       "      <th>date</th>\n",
       "      <th>unit_sales</th>\n",
       "      <th>onpromotion</th>\n",
       "      <th>year</th>\n",
       "      <th>month</th>\n",
       "      <th>day</th>\n",
       "      <th>day_of_week</th>\n",
       "      <th>unit_sales_7d_avg</th>\n",
       "      <th>...</th>\n",
       "      <th>oil_price</th>\n",
       "      <th>transactions</th>\n",
       "      <th>type_y</th>\n",
       "      <th>is_holiday</th>\n",
       "      <th>dow_sin</th>\n",
       "      <th>dow_cos</th>\n",
       "      <th>lag_1</th>\n",
       "      <th>lag_7</th>\n",
       "      <th>rolling_mean_7</th>\n",
       "      <th>rolling_std_7</th>\n",
       "    </tr>\n",
       "  </thead>\n",
       "  <tbody>\n",
       "    <tr>\n",
       "      <th>609307</th>\n",
       "      <td>24</td>\n",
       "      <td>96995</td>\n",
       "      <td>2014-01-08</td>\n",
       "      <td>0.0</td>\n",
       "      <td>0</td>\n",
       "      <td>2014</td>\n",
       "      <td>1</td>\n",
       "      <td>8</td>\n",
       "      <td>2</td>\n",
       "      <td>0.857143</td>\n",
       "      <td>...</td>\n",
       "      <td>91.90</td>\n",
       "      <td>2465.0</td>\n",
       "      <td>NaN</td>\n",
       "      <td>0.0</td>\n",
       "      <td>0.974928</td>\n",
       "      <td>-0.222521</td>\n",
       "      <td>1.0</td>\n",
       "      <td>0.0</td>\n",
       "      <td>0.857143</td>\n",
       "      <td>1.214986</td>\n",
       "    </tr>\n",
       "    <tr>\n",
       "      <th>609308</th>\n",
       "      <td>24</td>\n",
       "      <td>96995</td>\n",
       "      <td>2014-01-09</td>\n",
       "      <td>1.0</td>\n",
       "      <td>0</td>\n",
       "      <td>2014</td>\n",
       "      <td>1</td>\n",
       "      <td>9</td>\n",
       "      <td>3</td>\n",
       "      <td>0.571429</td>\n",
       "      <td>...</td>\n",
       "      <td>91.36</td>\n",
       "      <td>2176.0</td>\n",
       "      <td>NaN</td>\n",
       "      <td>0.0</td>\n",
       "      <td>0.433884</td>\n",
       "      <td>-0.900969</td>\n",
       "      <td>0.0</td>\n",
       "      <td>3.0</td>\n",
       "      <td>0.857143</td>\n",
       "      <td>1.214986</td>\n",
       "    </tr>\n",
       "    <tr>\n",
       "      <th>609309</th>\n",
       "      <td>24</td>\n",
       "      <td>96995</td>\n",
       "      <td>2014-01-10</td>\n",
       "      <td>0.0</td>\n",
       "      <td>0</td>\n",
       "      <td>2014</td>\n",
       "      <td>1</td>\n",
       "      <td>10</td>\n",
       "      <td>4</td>\n",
       "      <td>0.285714</td>\n",
       "      <td>...</td>\n",
       "      <td>92.39</td>\n",
       "      <td>2367.0</td>\n",
       "      <td>NaN</td>\n",
       "      <td>0.0</td>\n",
       "      <td>-0.433884</td>\n",
       "      <td>-0.900969</td>\n",
       "      <td>1.0</td>\n",
       "      <td>2.0</td>\n",
       "      <td>0.571429</td>\n",
       "      <td>0.786796</td>\n",
       "    </tr>\n",
       "    <tr>\n",
       "      <th>609310</th>\n",
       "      <td>24</td>\n",
       "      <td>96995</td>\n",
       "      <td>2014-01-11</td>\n",
       "      <td>0.0</td>\n",
       "      <td>0</td>\n",
       "      <td>2014</td>\n",
       "      <td>1</td>\n",
       "      <td>11</td>\n",
       "      <td>5</td>\n",
       "      <td>0.285714</td>\n",
       "      <td>...</td>\n",
       "      <td>NaN</td>\n",
       "      <td>2344.0</td>\n",
       "      <td>NaN</td>\n",
       "      <td>0.0</td>\n",
       "      <td>-0.974928</td>\n",
       "      <td>-0.222521</td>\n",
       "      <td>0.0</td>\n",
       "      <td>0.0</td>\n",
       "      <td>0.285714</td>\n",
       "      <td>0.487950</td>\n",
       "    </tr>\n",
       "    <tr>\n",
       "      <th>609311</th>\n",
       "      <td>24</td>\n",
       "      <td>96995</td>\n",
       "      <td>2014-01-12</td>\n",
       "      <td>1.0</td>\n",
       "      <td>0</td>\n",
       "      <td>2014</td>\n",
       "      <td>1</td>\n",
       "      <td>12</td>\n",
       "      <td>6</td>\n",
       "      <td>0.428571</td>\n",
       "      <td>...</td>\n",
       "      <td>NaN</td>\n",
       "      <td>1715.0</td>\n",
       "      <td>NaN</td>\n",
       "      <td>0.0</td>\n",
       "      <td>-0.781831</td>\n",
       "      <td>0.623490</td>\n",
       "      <td>0.0</td>\n",
       "      <td>0.0</td>\n",
       "      <td>0.285714</td>\n",
       "      <td>0.487950</td>\n",
       "    </tr>\n",
       "  </tbody>\n",
       "</table>\n",
       "<p>5 rows × 27 columns</p>\n",
       "</div>"
      ],
      "text/plain": [
       "        store_nbr  item_nbr       date  unit_sales  onpromotion  year  month  \\\n",
       "609307         24     96995 2014-01-08         0.0            0  2014      1   \n",
       "609308         24     96995 2014-01-09         1.0            0  2014      1   \n",
       "609309         24     96995 2014-01-10         0.0            0  2014      1   \n",
       "609310         24     96995 2014-01-11         0.0            0  2014      1   \n",
       "609311         24     96995 2014-01-12         1.0            0  2014      1   \n",
       "\n",
       "        day  day_of_week  unit_sales_7d_avg  ... oil_price transactions  \\\n",
       "609307    8            2           0.857143  ...     91.90       2465.0   \n",
       "609308    9            3           0.571429  ...     91.36       2176.0   \n",
       "609309   10            4           0.285714  ...     92.39       2367.0   \n",
       "609310   11            5           0.285714  ...       NaN       2344.0   \n",
       "609311   12            6           0.428571  ...       NaN       1715.0   \n",
       "\n",
       "       type_y  is_holiday   dow_sin   dow_cos  lag_1  lag_7  rolling_mean_7  \\\n",
       "609307    NaN         0.0  0.974928 -0.222521    1.0    0.0        0.857143   \n",
       "609308    NaN         0.0  0.433884 -0.900969    0.0    3.0        0.857143   \n",
       "609309    NaN         0.0 -0.433884 -0.900969    1.0    2.0        0.571429   \n",
       "609310    NaN         0.0 -0.974928 -0.222521    0.0    0.0        0.285714   \n",
       "609311    NaN         0.0 -0.781831  0.623490    0.0    0.0        0.285714   \n",
       "\n",
       "       rolling_std_7  \n",
       "609307      1.214986  \n",
       "609308      1.214986  \n",
       "609309      0.786796  \n",
       "609310      0.487950  \n",
       "609311      0.487950  \n",
       "\n",
       "[5 rows x 27 columns]"
      ]
     },
     "execution_count": 72,
     "metadata": {},
     "output_type": "execute_result"
    }
   ],
   "source": [
    "train_df.head()"
   ]
  },
  {
   "cell_type": "code",
   "execution_count": 73,
   "id": "65df1b09",
   "metadata": {},
   "outputs": [
    {
     "data": {
      "text/plain": [
       "store_nbr                  0\n",
       "item_nbr                   0\n",
       "date                       0\n",
       "unit_sales                 0\n",
       "onpromotion                0\n",
       "year                       0\n",
       "month                      0\n",
       "day                        0\n",
       "day_of_week                0\n",
       "unit_sales_7d_avg          0\n",
       "city                       0\n",
       "state                      0\n",
       "type_x                     0\n",
       "cluster                    0\n",
       "family                     0\n",
       "class                      0\n",
       "perishable                 0\n",
       "oil_price             498912\n",
       "transactions               0\n",
       "type_y               1663040\n",
       "is_holiday                 0\n",
       "dow_sin                    0\n",
       "dow_cos                    0\n",
       "lag_1                      0\n",
       "lag_7                      0\n",
       "rolling_mean_7             0\n",
       "rolling_std_7              0\n",
       "dtype: int64"
      ]
     },
     "execution_count": 73,
     "metadata": {},
     "output_type": "execute_result"
    }
   ],
   "source": [
    "train_df.isnull().sum()"
   ]
  },
  {
   "cell_type": "code",
   "execution_count": 74,
   "id": "f21edab9",
   "metadata": {},
   "outputs": [],
   "source": [
    "train_df['oil_price'].fillna(method='ffill', inplace=True)\n"
   ]
  },
  {
   "cell_type": "code",
   "execution_count": 75,
   "id": "5156b0eb",
   "metadata": {},
   "outputs": [],
   "source": [
    "train_df.drop(columns=['type_y'], inplace=True)\n"
   ]
  }
 ],
 "metadata": {
  "kernelspec": {
   "display_name": "Python 3",
   "language": "python",
   "name": "python3"
  },
  "language_info": {
   "codemirror_mode": {
    "name": "ipython",
    "version": 3
   },
   "file_extension": ".py",
   "mimetype": "text/x-python",
   "name": "python",
   "nbconvert_exporter": "python",
   "pygments_lexer": "ipython3",
   "version": "3.11.12"
  }
 },
 "nbformat": 4,
 "nbformat_minor": 5
}
